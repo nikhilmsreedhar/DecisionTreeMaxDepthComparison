{
 "cells": [
  {
   "cell_type": "code",
   "execution_count": 337,
   "id": "6b9b0a85",
   "metadata": {},
   "outputs": [],
   "source": [
    "import pandas as pd\n",
    "import numpy as np\n",
    "import matplotlib.pyplot as plt\n",
    "from sklearn import tree"
   ]
  },
  {
   "cell_type": "code",
   "execution_count": 338,
   "id": "60edea28",
   "metadata": {},
   "outputs": [
    {
     "data": {
      "text/html": [
       "<div>\n",
       "<style scoped>\n",
       "    .dataframe tbody tr th:only-of-type {\n",
       "        vertical-align: middle;\n",
       "    }\n",
       "\n",
       "    .dataframe tbody tr th {\n",
       "        vertical-align: top;\n",
       "    }\n",
       "\n",
       "    .dataframe thead th {\n",
       "        text-align: right;\n",
       "    }\n",
       "</style>\n",
       "<table border=\"1\" class=\"dataframe\">\n",
       "  <thead>\n",
       "    <tr style=\"text-align: right;\">\n",
       "      <th></th>\n",
       "      <th>Early</th>\n",
       "      <th>Finished hmk</th>\n",
       "      <th>Senior</th>\n",
       "      <th>Likes Coffee</th>\n",
       "      <th>Liked the Last Jedi</th>\n",
       "      <th>A</th>\n",
       "    </tr>\n",
       "  </thead>\n",
       "  <tbody>\n",
       "    <tr>\n",
       "      <th>0</th>\n",
       "      <td>1</td>\n",
       "      <td>1</td>\n",
       "      <td>0</td>\n",
       "      <td>0</td>\n",
       "      <td>1</td>\n",
       "      <td>1</td>\n",
       "    </tr>\n",
       "    <tr>\n",
       "      <th>1</th>\n",
       "      <td>1</td>\n",
       "      <td>1</td>\n",
       "      <td>1</td>\n",
       "      <td>0</td>\n",
       "      <td>1</td>\n",
       "      <td>1</td>\n",
       "    </tr>\n",
       "    <tr>\n",
       "      <th>2</th>\n",
       "      <td>0</td>\n",
       "      <td>0</td>\n",
       "      <td>1</td>\n",
       "      <td>0</td>\n",
       "      <td>0</td>\n",
       "      <td>0</td>\n",
       "    </tr>\n",
       "    <tr>\n",
       "      <th>3</th>\n",
       "      <td>0</td>\n",
       "      <td>1</td>\n",
       "      <td>1</td>\n",
       "      <td>0</td>\n",
       "      <td>1</td>\n",
       "      <td>0</td>\n",
       "    </tr>\n",
       "    <tr>\n",
       "      <th>4</th>\n",
       "      <td>0</td>\n",
       "      <td>1</td>\n",
       "      <td>1</td>\n",
       "      <td>0</td>\n",
       "      <td>0</td>\n",
       "      <td>1</td>\n",
       "    </tr>\n",
       "  </tbody>\n",
       "</table>\n",
       "</div>"
      ],
      "text/plain": [
       "   Early  Finished hmk  Senior  Likes Coffee  Liked the Last Jedi  A\n",
       "0      1             1       0             0                    1  1\n",
       "1      1             1       1             0                    1  1\n",
       "2      0             0       1             0                    0  0\n",
       "3      0             1       1             0                    1  0\n",
       "4      0             1       1             0                    0  1"
      ]
     },
     "execution_count": 338,
     "metadata": {},
     "output_type": "execute_result"
    }
   ],
   "source": [
    "df_students = pd.read_csv(\"students.csv\")\n",
    "df_students.head()"
   ]
  },
  {
   "cell_type": "code",
   "execution_count": 339,
   "id": "1668f272",
   "metadata": {},
   "outputs": [],
   "source": [
    "from sklearn.model_selection import train_test_split\n",
    "\n",
    "y = df_students['A']\n",
    "X = df_students.drop(['A'], axis = 1)\n",
    "X_train, X_test, y_train, y_test = train_test_split(X, y, test_size=0.33, random_state=42)"
   ]
  },
  {
   "cell_type": "code",
   "execution_count": 340,
   "id": "c198a54d",
   "metadata": {},
   "outputs": [],
   "source": [
    "def studentId(data):\n",
    "    data['StudentId'] = data.index + 1\n",
    "    return data\n",
    "X_train = studentId(X_train)\n",
    "X_test = studentId(X_test)\n",
    "A_students = pd.DataFrame(X_test['StudentId'])\n",
    "X_train = X_train.drop('StudentId', axis = 1)\n",
    "X_test = X_test.drop('StudentId', axis = 1)\n",
    "model1 = tree.DecisionTreeClassifier(criterion='entropy', max_depth=1)\n",
    "model1.fit(X_train, y_train)\n",
    "y_pred1 = model1.predict(X_test)\n",
    "\n",
    "model2 = tree.DecisionTreeClassifier(criterion='entropy', max_depth=2)\n",
    "model2.fit(X_train, y_train)\n",
    "y_pred2 = model2.predict(X_test)"
   ]
  },
  {
   "cell_type": "code",
   "execution_count": 341,
   "id": "f5727839",
   "metadata": {},
   "outputs": [
    {
     "name": "stdout",
     "output_type": "stream",
     "text": [
      "Decision Tree 1 RMSE :  0.7745966692414834\n",
      "Decision Tree 2 RMSE :  0.6324555320336759\n",
      "Tree 1 training accuracy:  0.6666666666666666\n",
      "Tree 2 training accuracy:  0.7777777777777778\n",
      "Tree 1 testing accuracy:  0.4\n",
      "Tree 2 testing accuracy:  0.6\n"
     ]
    }
   ],
   "source": [
    "from sklearn.metrics import mean_squared_error\n",
    "treeError1 = np.sqrt(mean_squared_error(y_test, y_pred1))\n",
    "treeError2 = np.sqrt(mean_squared_error(y_test, y_pred2))\n",
    "\n",
    "print('Decision Tree 1 RMSE : ',treeError1)\n",
    "print('Decision Tree 2 RMSE : ',treeError2)\n",
    "\n",
    "print(\"Tree 1 training accuracy: \", model1.score(X_train, y_train))\n",
    "print(\"Tree 2 training accuracy: \", model2.score(X_train, y_train))\n",
    "print(\"Tree 1 testing accuracy: \", accuracy_score(y_test, y_pred1))\n",
    "print(\"Tree 2 testing accuracy: \", accuracy_score(y_test, y_pred2))"
   ]
  },
  {
   "cell_type": "code",
   "execution_count": 342,
   "id": "5aa89776",
   "metadata": {},
   "outputs": [],
   "source": [
    "A_students[\"A Grade\"] = y_pred2\n",
    "A_students.to_csv(\"A_grade_students.csv\")"
   ]
  }
 ],
 "metadata": {
  "kernelspec": {
   "display_name": "Python 3 (ipykernel)",
   "language": "python",
   "name": "python3"
  },
  "language_info": {
   "codemirror_mode": {
    "name": "ipython",
    "version": 3
   },
   "file_extension": ".py",
   "mimetype": "text/x-python",
   "name": "python",
   "nbconvert_exporter": "python",
   "pygments_lexer": "ipython3",
   "version": "3.10.2"
  }
 },
 "nbformat": 4,
 "nbformat_minor": 5
}
